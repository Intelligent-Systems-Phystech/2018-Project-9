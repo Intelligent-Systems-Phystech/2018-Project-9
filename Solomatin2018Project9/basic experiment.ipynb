{
 "cells": [
  {
   "cell_type": "markdown",
   "metadata": {},
   "source": [
    "### Imports"
   ]
  },
  {
   "cell_type": "code",
   "execution_count": 1,
   "metadata": {},
   "outputs": [
    {
     "name": "stderr",
     "output_type": "stream",
     "text": [
      "/home/whale/anaconda3/lib/python3.6/site-packages/h5py/__init__.py:36: FutureWarning: Conversion of the second argument of issubdtype from `float` to `np.floating` is deprecated. In future, it will be treated as `np.float64 == np.dtype(float).type`.\n",
      "  from ._conv import register_converters as _register_converters\n",
      "Using TensorFlow backend.\n"
     ]
    }
   ],
   "source": [
    "import keras\n",
    "from keras.datasets import mnist\n",
    "import matplotlib.pyplot as plt\n",
    "import numpy as np\n",
    "np.random.seed(19)\n",
    "\n",
    "from keras.models import Sequential\n",
    "from keras.layers import Dense, Dropout, Activation, Flatten, BatchNormalization\n",
    "from keras.layers import Conv2D, MaxPooling2D\n",
    "\n",
    "from keras import backend as K\n",
    "K.set_image_dim_ordering('th')\n",
    "from keras.utils import np_utils\n",
    "from sklearn.metrics import f1_score\n",
    "\n",
    "import matplotlib.pyplot as plt\n",
    "%matplotlib inline"
   ]
  },
  {
   "cell_type": "markdown",
   "metadata": {},
   "source": [
    "### Load MNIST"
   ]
  },
  {
   "cell_type": "code",
   "execution_count": 2,
   "metadata": {},
   "outputs": [],
   "source": [
    "(X_train, y_train), (X_test, y_test) = mnist.load_data()"
   ]
  },
  {
   "cell_type": "markdown",
   "metadata": {},
   "source": [
    "### Preprocessing"
   ]
  },
  {
   "cell_type": "code",
   "execution_count": 3,
   "metadata": {},
   "outputs": [],
   "source": [
    "# reshape to be [samples][pixels][width][height]\n",
    "X_train = X_train.reshape(X_train.shape[0], 1, 28, 28).astype('float32')\n",
    "X_test = X_test.reshape(X_test.shape[0], 1, 28, 28).astype('float32')"
   ]
  },
  {
   "cell_type": "code",
   "execution_count": 4,
   "metadata": {},
   "outputs": [],
   "source": [
    "# normalize inputs from 0-255 to 0-1\n",
    "X_train = X_train / 255\n",
    "X_test = X_test / 255\n",
    "# one hot encode outputs\n",
    "y_train = np_utils.to_categorical(y_train)\n",
    "y_test = np_utils.to_categorical(y_test)\n",
    "num_classes = y_test.shape[1]"
   ]
  },
  {
   "cell_type": "markdown",
   "metadata": {},
   "source": [
    "### F1-score"
   ]
  },
  {
   "cell_type": "code",
   "execution_count": 13,
   "metadata": {},
   "outputs": [],
   "source": [
    "def f1(y_true, y_pred):\n",
    "    def recall(y_true, y_pred):\n",
    "        true_positives = K.sum(K.round(K.clip(y_true * y_pred, 0, 1)))\n",
    "        possible_positives = K.sum(K.round(K.clip(y_true, 0, 1)))\n",
    "        recall = true_positives / (possible_positives + K.epsilon())\n",
    "        return recall\n",
    "\n",
    "    def precision(y_true, y_pred):\n",
    "        true_positives = K.sum(K.round(K.clip(y_true * y_pred, 0, 1)))\n",
    "        predicted_positives = K.sum(K.round(K.clip(y_pred, 0, 1)))\n",
    "        precision = true_positives / (predicted_positives + K.epsilon())\n",
    "        return precision\n",
    "    \n",
    "    precision = precision(y_true, y_pred)\n",
    "    recall = recall(y_true, y_pred)\n",
    "    return 2*((precision*recall)/(precision+recall+K.epsilon()))"
   ]
  },
  {
   "cell_type": "markdown",
   "metadata": {},
   "source": [
    "### Model"
   ]
  },
  {
   "cell_type": "code",
   "execution_count": 14,
   "metadata": {},
   "outputs": [],
   "source": [
    "def baseline_model():\n",
    "    model = Sequential()\n",
    "    model.add(Conv2D(30, (5, 5), input_shape=(1, 28, 28), activation='relu'))\n",
    "    model.add(MaxPooling2D(pool_size=(2, 2)))\n",
    "    model.add(Conv2D(15, (3, 3), activation='relu'))\n",
    "    model.add(MaxPooling2D(pool_size=(2, 2)))\n",
    "    model.add(Dropout(0.2))\n",
    "    \n",
    "    model.add(Flatten())\n",
    "    model.add(Dense(128, activation='relu'))\n",
    "    model.add(Dense(50, activation='relu'))\n",
    "    model.add(Dense(num_classes, activation='softmax'))\n",
    "    \n",
    "    model.compile(loss = keras.losses.categorical_crossentropy, \n",
    "                  optimizer = keras.optimizers.Adadelta(), \n",
    "                  metrics=['accuracy', f1])\n",
    "    return model"
   ]
  },
  {
   "cell_type": "code",
   "execution_count": 18,
   "metadata": {},
   "outputs": [
    {
     "name": "stdout",
     "output_type": "stream",
     "text": [
      "Train on 60000 samples, validate on 10000 samples\n",
      "Epoch 1/10\n",
      " - 231s - loss: 0.6793 - acc: 0.7856 - val_loss: 0.0959 - val_acc: 0.9731\n",
      "Epoch 2/10\n",
      " - 224s - loss: 0.1951 - acc: 0.9480 - val_loss: 0.0672 - val_acc: 0.9815\n",
      "Epoch 3/10\n",
      " - 226s - loss: 0.1441 - acc: 0.9625 - val_loss: 0.0619 - val_acc: 0.9826\n",
      "Epoch 4/10\n",
      " - 223s - loss: 0.1191 - acc: 0.9693 - val_loss: 0.0537 - val_acc: 0.9856\n",
      "Epoch 5/10\n",
      " - 228s - loss: 0.1027 - acc: 0.9740 - val_loss: 0.0459 - val_acc: 0.9866\n",
      "Epoch 6/10\n",
      " - 239s - loss: 0.0913 - acc: 0.9757 - val_loss: 0.0431 - val_acc: 0.9884\n",
      "Epoch 7/10\n",
      " - 233s - loss: 0.0844 - acc: 0.9777 - val_loss: 0.0563 - val_acc: 0.9852\n",
      "Epoch 8/10\n",
      " - 242s - loss: 0.0770 - acc: 0.9796 - val_loss: 0.0516 - val_acc: 0.9874\n",
      "Epoch 9/10\n",
      " - 255s - loss: 0.0720 - acc: 0.9817 - val_loss: 0.0467 - val_acc: 0.9894\n",
      "Epoch 10/10\n",
      " - 231s - loss: 0.0673 - acc: 0.9829 - val_loss: 0.0382 - val_acc: 0.9900\n",
      "Baseline Error: 1.00%\n"
     ]
    }
   ],
   "source": [
    "# build the model\n",
    "model = baseline_model()\n",
    "# Fit the model\n",
    "model.fit(X_train, y_train, validation_data = (X_test, y_test), epochs = 10, batch_size = 200, verbose = 2)\n",
    "# Final evaluation of the model\n",
    "scores = model.evaluate(X_test, y_test, verbose = 0)\n",
    "print(\"Baseline Error: %.2f%%\" % (100 - scores[1] * 100))"
   ]
  },
  {
   "cell_type": "markdown",
   "metadata": {},
   "source": [
    "### Score"
   ]
  },
  {
   "cell_type": "code",
   "execution_count": 18,
   "metadata": {},
   "outputs": [
    {
     "name": "stdout",
     "output_type": "stream",
     "text": [
      "Train on 60000 samples, validate on 10000 samples\n",
      "Epoch 1/10\n",
      "60000/60000 [==============================] - 365s 6ms/step - loss: 0.6487 - acc: 0.7935 - f1: 0.7415 - val_loss: 0.2994 - val_acc: 0.8963 - val_f1: 0.8966\n",
      "Epoch 2/10\n",
      "60000/60000 [==============================] - 336s 6ms/step - loss: 0.1437 - acc: 0.9557 - f1: 0.9559 - val_loss: 0.0836 - val_acc: 0.9748 - val_f1: 0.9754\n",
      "Epoch 3/10\n",
      "60000/60000 [==============================] - 282s 5ms/step - loss: 0.0982 - acc: 0.9688 - f1: 0.9688 - val_loss: 0.0638 - val_acc: 0.9801 - val_f1: 0.9805\n",
      "Epoch 4/10\n",
      "60000/60000 [==============================] - 351s 6ms/step - loss: 0.0781 - acc: 0.9752 - f1: 0.9757 - val_loss: 0.0524 - val_acc: 0.9815 - val_f1: 0.9816\n",
      "Epoch 5/10\n",
      "60000/60000 [==============================] - 436s 7ms/step - loss: 0.0653 - acc: 0.9797 - f1: 0.9799 - val_loss: 0.0386 - val_acc: 0.9873 - val_f1: 0.9876\n",
      "Epoch 6/10\n",
      "60000/60000 [==============================] - 358s 6ms/step - loss: 0.0585 - acc: 0.9816 - f1: 0.9820 - val_loss: 0.0359 - val_acc: 0.9894 - val_f1: 0.9895\n",
      "Epoch 7/10\n",
      "60000/60000 [==============================] - 335s 6ms/step - loss: 0.0508 - acc: 0.9846 - f1: 0.9847 - val_loss: 0.0514 - val_acc: 0.9830 - val_f1: 0.9832\n",
      "Epoch 8/10\n",
      "60000/60000 [==============================] - 355s 6ms/step - loss: 0.0468 - acc: 0.9851 - f1: 0.9851 - val_loss: 0.0363 - val_acc: 0.9888 - val_f1: 0.9888\n",
      "Epoch 9/10\n",
      "60000/60000 [==============================] - 363s 6ms/step - loss: 0.0407 - acc: 0.9870 - f1: 0.9871 - val_loss: 0.0475 - val_acc: 0.9844 - val_f1: 0.9848\n",
      "Epoch 10/10\n",
      "60000/60000 [==============================] - 267s 4ms/step - loss: 0.0401 - acc: 0.9869 - f1: 0.9872 - val_loss: 0.0346 - val_acc: 0.9879 - val_f1: 0.9879\n"
     ]
    }
   ],
   "source": [
    "model = baseline_model()\n",
    "history = model.fit(X_train, y_train,\n",
    "          batch_size=512,\n",
    "          epochs=10,\n",
    "          verbose=1,\n",
    "          validation_data=(X_test, y_test))"
   ]
  },
  {
   "cell_type": "code",
   "execution_count": 16,
   "metadata": {},
   "outputs": [
    {
     "name": "stdout",
     "output_type": "stream",
     "text": [
      "Loss:  0.05625\n",
      "Accuracy: 98.13%\n",
      "F1_score: 0.98168\n"
     ]
    }
   ],
   "source": [
    "scores = model.evaluate(X_test, y_test, verbose=0, )\n",
    "print(f'Loss: {scores[0]: 0.5f}')\n",
    "print(f'Accuracy:{scores[1]*100: 0.2f}%')\n",
    "print(f'F1_score:{scores[2]: 0.5f}')"
   ]
  },
  {
   "cell_type": "code",
   "execution_count": 19,
   "metadata": {},
   "outputs": [
    {
     "data": {
      "text/plain": [
       "<matplotlib.legend.Legend at 0x7f61a4d932e8>"
      ]
     },
     "execution_count": 19,
     "metadata": {},
     "output_type": "execute_result"
    },
    {
     "data": {
      "image/png": "[encoded data removed]",
      "text/plain": [
       "<Figure size 1080x360 with 3 Axes>"
      ]
     },
     "metadata": {},
     "output_type": "display_data"
    }
   ],
   "source": [
    "fig, ax = plt.subplots(1, 3, figsize=(15,5))\n",
    "ax[0].set_title('Loss')\n",
    "ax[0].plot(history.epoch, history.history[\"loss\"], label=\"Train Loss\")\n",
    "ax[0].plot(history.epoch, history.history[\"val_loss\"], label=\"Validation Loss\")\n",
    "ax[1].set_title('Accuracy')\n",
    "ax[1].plot(history.epoch, history.history[\"acc\"], label=\"Train accuracy\")\n",
    "ax[1].plot(history.epoch, history.history[\"val_acc\"], label=\"Validation accuracy\")\n",
    "ax[2].set_title('F1_score')\n",
    "ax[2].plot(history.epoch, history.history[\"f1\"], label=\"Train F1_score\")\n",
    "ax[2].plot(history.epoch, history.history[\"val_f1\"], label=\"Validation F1_score\")\n",
    "ax[0].legend()\n",
    "ax[1].legend()\n",
    "ax[2].legend()"
   ]
  },
  {
   "cell_type": "code",
   "execution_count": null,
   "metadata": {},
   "outputs": [],
   "source": []
  }
 ],
 "metadata": {
  "kernelspec": {
   "display_name": "Python 3",
   "language": "python",
   "name": "python3"
  },
  "language_info": {
   "codemirror_mode": {
    "name": "ipython",
    "version": 3
   },
   "file_extension": ".py",
   "mimetype": "text/x-python",
   "name": "python",
   "nbconvert_exporter": "python",
   "pygments_lexer": "ipython3",
   "version": "3.6.5"
  }
 },
 "nbformat": 4,
 "nbformat_minor": 2
}
