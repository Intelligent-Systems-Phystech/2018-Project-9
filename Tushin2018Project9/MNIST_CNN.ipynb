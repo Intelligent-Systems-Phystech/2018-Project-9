{
 "cells": [
  {
   "cell_type": "markdown",
   "metadata": {},
   "source": [
    "## Imports"
   ]
  },
  {
   "cell_type": "code",
   "execution_count": 1,
   "metadata": {},
   "outputs": [
    {
     "name": "stderr",
     "output_type": "stream",
     "text": [
      "Using TensorFlow backend.\n"
     ]
    }
   ],
   "source": [
    "import os\n",
    "os.environ[\"CUDA_DEVICE_ORDER\"]=\"PCI_BUS_ID\"\n",
    "os.environ[\"CUDA_VISIBLE_DEVICES\"]=\"5\"\n",
    "\n",
    "import keras\n",
    "from keras.datasets import mnist\n",
    "from keras.models import Sequential, load_model\n",
    "from keras.layers import Dense, Dropout, Flatten\n",
    "from keras.layers import Conv2D, MaxPooling2D\n",
    "from keras import backend as K\n",
    "from keras.callbacks import EarlyStopping, ModelCheckpoint, ReduceLROnPlateau\n",
    "\n",
    "\n",
    "batch_size = 512\n",
    "num_classes = 10\n",
    "img_rows, img_cols = 28, 28"
   ]
  },
  {
   "cell_type": "markdown",
   "metadata": {},
   "source": [
    "## Load data"
   ]
  },
  {
   "cell_type": "code",
   "execution_count": 2,
   "metadata": {},
   "outputs": [],
   "source": [
    "(x_train, y_train), (x_test, y_test) = mnist.load_data()"
   ]
  },
  {
   "cell_type": "markdown",
   "metadata": {},
   "source": [
    "## Create data for network"
   ]
  },
  {
   "cell_type": "code",
   "execution_count": 3,
   "metadata": {},
   "outputs": [],
   "source": [
    "x_train = x_train.reshape(x_train.shape[0], img_rows, img_cols, 1)\n",
    "x_test = x_test.reshape(x_test.shape[0], img_rows, img_cols, 1)\n",
    "input_shape = (img_rows, img_cols, 1)\n",
    "\n",
    "x_train = x_train.astype('float32') / 255\n",
    "x_test = x_test.astype('float32') / 255\n",
    "\n",
    "y_train = keras.utils.to_categorical(y_train, num_classes)\n",
    "y_test = keras.utils.to_categorical(y_test, num_classes)"
   ]
  },
  {
   "cell_type": "markdown",
   "metadata": {},
   "source": [
    "## Create f1 score"
   ]
  },
  {
   "cell_type": "code",
   "execution_count": 4,
   "metadata": {},
   "outputs": [],
   "source": [
    "def f1(y_true, y_pred):\n",
    "    def recall(y_true, y_pred):\n",
    "        true_positives = K.sum(K.round(K.clip(y_true * y_pred, 0, 1)))\n",
    "        possible_positives = K.sum(K.round(K.clip(y_true, 0, 1)))\n",
    "        recall = true_positives / (possible_positives + K.epsilon())\n",
    "        return recall\n",
    "\n",
    "    def precision(y_true, y_pred):\n",
    "        true_positives = K.sum(K.round(K.clip(y_true * y_pred, 0, 1)))\n",
    "        predicted_positives = K.sum(K.round(K.clip(y_pred, 0, 1)))\n",
    "        precision = true_positives / (predicted_positives + K.epsilon())\n",
    "        return precision\n",
    "    \n",
    "    precision = precision(y_true, y_pred)\n",
    "    recall = recall(y_true, y_pred)\n",
    "    return 2*((precision*recall)/(precision+recall+K.epsilon()))"
   ]
  },
  {
   "cell_type": "markdown",
   "metadata": {},
   "source": [
    "## Generate model"
   ]
  },
  {
   "cell_type": "code",
   "execution_count": 5,
   "metadata": {},
   "outputs": [],
   "source": [
    "model = Sequential()\n",
    "model.add(Conv2D(32, (3, 3),\n",
    "                 activation='relu',\n",
    "                 input_shape=input_shape))\n",
    "model.add(Conv2D(64, (3, 3), activation='relu'))\n",
    "model.add(MaxPooling2D(pool_size=(2, 2)))\n",
    "model.add(Dropout(0.25))\n",
    "model.add(Flatten())\n",
    "model.add(Dense(128, activation='relu'))\n",
    "model.add(Dropout(0.5))\n",
    "model.add(Dense(num_classes, activation='softmax'))\n",
    "\n",
    "model.compile(loss=keras.losses.categorical_crossentropy,\n",
    "              optimizer=keras.optimizers.Adadelta(),\n",
    "              metrics=['accuracy', f1])"
   ]
  },
  {
   "cell_type": "markdown",
   "metadata": {},
   "source": [
    "## Create callbacks"
   ]
  },
  {
   "cell_type": "code",
   "execution_count": 6,
   "metadata": {},
   "outputs": [],
   "source": [
    "early_stopping = EarlyStopping(monitor='val_acc', mode='max', patience=5, verbose=1)\n",
    "model_checkpoint = ModelCheckpoint('best_model.h5', monitor='val_acc', mode='max', save_best_only=True, verbose=1)\n",
    "reduce_lr = ReduceLROnPlateau(monitor='val_acc', mode='max', factor=0.5, patience=3, verbose=1)\n",
    "callbacks=[early_stopping, model_checkpoint, reduce_lr]"
   ]
  },
  {
   "cell_type": "markdown",
   "metadata": {},
   "source": [
    "## Fit model"
   ]
  },
  {
   "cell_type": "code",
   "execution_count": 7,
   "metadata": {
    "scrolled": false
   },
   "outputs": [
    {
     "name": "stdout",
     "output_type": "stream",
     "text": [
      "Train on 60000 samples, validate on 10000 samples\n",
      "Epoch 1/10000\n",
      "60000/60000 [==============================] - 10s 172us/step - loss: 0.5248 - acc: 0.8366 - f1: 0.8073 - val_loss: 0.1151 - val_acc: 0.9671 - val_f1: 0.9677\n",
      "\n",
      "Epoch 00001: val_acc improved from -inf to 0.96710, saving model to best_model.h5\n",
      "Epoch 2/10000\n",
      "60000/60000 [==============================] - 2s 40us/step - loss: 0.1453 - acc: 0.9573 - f1: 0.9572 - val_loss: 0.0627 - val_acc: 0.9804 - val_f1: 0.9801\n",
      "\n",
      "Epoch 00002: val_acc improved from 0.96710 to 0.98040, saving model to best_model.h5\n",
      "Epoch 3/10000\n",
      "60000/60000 [==============================] - 3s 42us/step - loss: 0.1022 - acc: 0.9699 - f1: 0.9705 - val_loss: 0.0499 - val_acc: 0.9843 - val_f1: 0.9846\n",
      "\n",
      "Epoch 00003: val_acc improved from 0.98040 to 0.98430, saving model to best_model.h5\n",
      "Epoch 4/10000\n",
      "60000/60000 [==============================] - 2s 41us/step - loss: 0.0793 - acc: 0.9763 - f1: 0.9766 - val_loss: 0.0425 - val_acc: 0.9864 - val_f1: 0.9868\n",
      "\n",
      "Epoch 00004: val_acc improved from 0.98430 to 0.98640, saving model to best_model.h5\n",
      "Epoch 5/10000\n",
      "60000/60000 [==============================] - 2s 41us/step - loss: 0.0661 - acc: 0.9802 - f1: 0.9804 - val_loss: 0.0518 - val_acc: 0.9830 - val_f1: 0.9833\n",
      "\n",
      "Epoch 00005: val_acc did not improve from 0.98640\n",
      "Epoch 6/10000\n",
      "60000/60000 [==============================] - 3s 42us/step - loss: 0.0580 - acc: 0.9821 - f1: 0.9824 - val_loss: 0.0313 - val_acc: 0.9902 - val_f1: 0.9903\n",
      "\n",
      "Epoch 00006: val_acc improved from 0.98640 to 0.99020, saving model to best_model.h5\n",
      "Epoch 7/10000\n",
      "60000/60000 [==============================] - 2s 40us/step - loss: 0.0518 - acc: 0.9847 - f1: 0.9847 - val_loss: 0.0328 - val_acc: 0.9891 - val_f1: 0.9888\n",
      "\n",
      "Epoch 00007: val_acc did not improve from 0.99020\n",
      "Epoch 8/10000\n",
      "60000/60000 [==============================] - 2s 40us/step - loss: 0.0481 - acc: 0.9853 - f1: 0.9856 - val_loss: 0.0305 - val_acc: 0.9902 - val_f1: 0.9902\n",
      "\n",
      "Epoch 00008: val_acc did not improve from 0.99020\n",
      "Epoch 9/10000\n",
      "60000/60000 [==============================] - 3s 42us/step - loss: 0.0444 - acc: 0.9864 - f1: 0.9867 - val_loss: 0.0292 - val_acc: 0.9901 - val_f1: 0.9902\n",
      "\n",
      "Epoch 00009: val_acc did not improve from 0.99020\n",
      "\n",
      "Epoch 00009: ReduceLROnPlateau reducing learning rate to 0.5.\n",
      "Epoch 10/10000\n",
      "60000/60000 [==============================] - 2s 40us/step - loss: 0.0364 - acc: 0.9889 - f1: 0.9889 - val_loss: 0.0289 - val_acc: 0.9903 - val_f1: 0.9904\n",
      "\n",
      "Epoch 00010: val_acc improved from 0.99020 to 0.99030, saving model to best_model.h5\n",
      "Epoch 11/10000\n",
      "60000/60000 [==============================] - 2s 40us/step - loss: 0.0346 - acc: 0.9892 - f1: 0.9893 - val_loss: 0.0281 - val_acc: 0.9911 - val_f1: 0.9912\n",
      "\n",
      "Epoch 00011: val_acc improved from 0.99030 to 0.99110, saving model to best_model.h5\n",
      "Epoch 12/10000\n",
      "60000/60000 [==============================] - 2s 40us/step - loss: 0.0323 - acc: 0.9901 - f1: 0.9902 - val_loss: 0.0272 - val_acc: 0.9913 - val_f1: 0.9912\n",
      "\n",
      "Epoch 00012: val_acc improved from 0.99110 to 0.99130, saving model to best_model.h5\n",
      "Epoch 13/10000\n",
      "60000/60000 [==============================] - 3s 42us/step - loss: 0.0303 - acc: 0.9905 - f1: 0.9907 - val_loss: 0.0264 - val_acc: 0.9914 - val_f1: 0.9916\n",
      "\n",
      "Epoch 00013: val_acc improved from 0.99130 to 0.99140, saving model to best_model.h5\n",
      "Epoch 14/10000\n",
      "60000/60000 [==============================] - 3s 42us/step - loss: 0.0280 - acc: 0.9911 - f1: 0.9912 - val_loss: 0.0259 - val_acc: 0.9920 - val_f1: 0.9921\n",
      "\n",
      "Epoch 00014: val_acc improved from 0.99140 to 0.99200, saving model to best_model.h5\n",
      "Epoch 15/10000\n",
      "60000/60000 [==============================] - 3s 42us/step - loss: 0.0281 - acc: 0.9916 - f1: 0.9914 - val_loss: 0.0291 - val_acc: 0.9915 - val_f1: 0.9915\n",
      "\n",
      "Epoch 00015: val_acc did not improve from 0.99200\n",
      "Epoch 16/10000\n",
      "60000/60000 [==============================] - 2s 41us/step - loss: 0.0273 - acc: 0.9918 - f1: 0.9918 - val_loss: 0.0250 - val_acc: 0.9916 - val_f1: 0.9915\n",
      "\n",
      "Epoch 00016: val_acc did not improve from 0.99200\n",
      "Epoch 17/10000\n",
      "60000/60000 [==============================] - 3s 42us/step - loss: 0.0248 - acc: 0.9922 - f1: 0.9922 - val_loss: 0.0256 - val_acc: 0.9915 - val_f1: 0.9918\n",
      "\n",
      "Epoch 00017: val_acc did not improve from 0.99200\n",
      "\n",
      "Epoch 00017: ReduceLROnPlateau reducing learning rate to 0.25.\n",
      "Epoch 18/10000\n",
      "60000/60000 [==============================] - 3s 42us/step - loss: 0.0237 - acc: 0.9924 - f1: 0.9925 - val_loss: 0.0255 - val_acc: 0.9922 - val_f1: 0.9923\n",
      "\n",
      "Epoch 00018: val_acc improved from 0.99200 to 0.99220, saving model to best_model.h5\n",
      "Epoch 19/10000\n",
      "60000/60000 [==============================] - 2s 41us/step - loss: 0.0216 - acc: 0.9935 - f1: 0.9936 - val_loss: 0.0250 - val_acc: 0.9919 - val_f1: 0.9918\n",
      "\n",
      "Epoch 00019: val_acc did not improve from 0.99220\n",
      "Epoch 20/10000\n",
      "60000/60000 [==============================] - 3s 42us/step - loss: 0.0218 - acc: 0.9933 - f1: 0.9933 - val_loss: 0.0242 - val_acc: 0.9922 - val_f1: 0.9922\n",
      "\n",
      "Epoch 00020: val_acc improved from 0.99220 to 0.99220, saving model to best_model.h5\n",
      "Epoch 21/10000\n",
      "60000/60000 [==============================] - 2s 40us/step - loss: 0.0217 - acc: 0.9931 - f1: 0.9931 - val_loss: 0.0246 - val_acc: 0.9925 - val_f1: 0.9924\n",
      "\n",
      "Epoch 00021: val_acc improved from 0.99220 to 0.99250, saving model to best_model.h5\n",
      "Epoch 22/10000\n",
      "60000/60000 [==============================] - 2s 40us/step - loss: 0.0213 - acc: 0.9929 - f1: 0.9930 - val_loss: 0.0244 - val_acc: 0.9918 - val_f1: 0.9917\n",
      "\n",
      "Epoch 00022: val_acc did not improve from 0.99250\n",
      "Epoch 23/10000\n",
      "60000/60000 [==============================] - 2s 40us/step - loss: 0.0202 - acc: 0.9936 - f1: 0.9936 - val_loss: 0.0252 - val_acc: 0.9920 - val_f1: 0.9919\n",
      "\n",
      "Epoch 00023: val_acc did not improve from 0.99250\n",
      "Epoch 24/10000\n",
      "60000/60000 [==============================] - 2s 41us/step - loss: 0.0194 - acc: 0.9939 - f1: 0.9940 - val_loss: 0.0248 - val_acc: 0.9914 - val_f1: 0.9915\n",
      "\n",
      "Epoch 00024: val_acc did not improve from 0.99250\n",
      "\n",
      "Epoch 00024: ReduceLROnPlateau reducing learning rate to 0.125.\n",
      "Epoch 25/10000\n",
      "60000/60000 [==============================] - 2s 42us/step - loss: 0.0189 - acc: 0.9942 - f1: 0.9943 - val_loss: 0.0248 - val_acc: 0.9921 - val_f1: 0.9923\n",
      "\n",
      "Epoch 00025: val_acc did not improve from 0.99250\n",
      "Epoch 26/10000\n",
      "60000/60000 [==============================] - 2s 39us/step - loss: 0.0190 - acc: 0.9943 - f1: 0.9943 - val_loss: 0.0247 - val_acc: 0.9918 - val_f1: 0.9920\n",
      "\n",
      "Epoch 00026: val_acc did not improve from 0.99250\n",
      "Epoch 00026: early stopping\n"
     ]
    },
    {
     "data": {
      "text/plain": [
       "<keras.callbacks.History at 0x7fe3846bbef0>"
      ]
     },
     "execution_count": 7,
     "metadata": {},
     "output_type": "execute_result"
    }
   ],
   "source": [
    "model.fit(x_train, y_train,\n",
    "          batch_size=batch_size,\n",
    "          epochs=10000,\n",
    "          callbacks=callbacks,\n",
    "          verbose=1,\n",
    "          validation_data=(x_test, y_test))"
   ]
  },
  {
   "cell_type": "markdown",
   "metadata": {},
   "source": [
    "## Score model"
   ]
  },
  {
   "cell_type": "code",
   "execution_count": 8,
   "metadata": {},
   "outputs": [
    {
     "name": "stdout",
     "output_type": "stream",
     "text": [
      "Test loss: 0.024616236625222974\n",
      "Test accuracy: 0.9925\n",
      "Test f1_score: 0.9924348064422608\n"
     ]
    }
   ],
   "source": [
    "model = load_model('best_model.h5', custom_objects={'f1': f1})\n",
    "score = model.evaluate(x_test, y_test, verbose=0)\n",
    "print('Test loss:', score[0])\n",
    "print('Test accuracy:', score[1])\n",
    "print('Test f1_score:', score[2])"
   ]
  }
 ],
 "metadata": {
  "kernelspec": {
   "display_name": "Python 3",
   "language": "python",
   "name": "python3"
  },
  "language_info": {
   "codemirror_mode": {
    "name": "ipython",
    "version": 3
   },
   "file_extension": ".py",
   "mimetype": "text/x-python",
   "name": "python",
   "nbconvert_exporter": "python",
   "pygments_lexer": "ipython3",
   "version": "3.6.5"
  }
 },
 "nbformat": 4,
 "nbformat_minor": 2
}
