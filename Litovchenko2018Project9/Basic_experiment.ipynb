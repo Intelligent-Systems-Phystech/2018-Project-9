{
  "nbformat": 4,
  "nbformat_minor": 0,
  "metadata": {
    "colab": {
      "name": "Basic_experiment.ipynb",
      "version": "0.3.2",
      "provenance": [],
      "collapsed_sections": []
    },
    "kernelspec": {
      "name": "python3",
      "display_name": "Python 3"
    },
    "accelerator": "GPU"
  },
  "cells": [
    {
      "metadata": {
        "id": "9bxbo5tLR3GS",
        "colab_type": "text"
      },
      "cell_type": "markdown",
      "source": [
        "##Imports"
      ]
    },
    {
      "metadata": {
        "id": "bNUfQlyZR1o3",
        "colab_type": "code",
        "colab": {
          "base_uri": "https://localhost:8080/",
          "height": 34
        },
        "outputId": "5d7b0584-86ae-447a-dc60-0ed0db8e6fd2"
      },
      "cell_type": "code",
      "source": [
        "import keras\n",
        "from keras.datasets import mnist\n",
        "from keras.models import Sequential, load_model\n",
        "from keras.layers import Dense, Dropout, Flatten, BatchNormalization\n",
        "from keras.layers import Conv2D, MaxPooling2D\n",
        "from keras.layers import Activation\n",
        "from keras import backend as K\n",
        "from keras.callbacks import EarlyStopping, ModelCheckpoint, ReduceLROnPlateau\n",
        "\n",
        "from sklearn.model_selection import train_test_split"
      ],
      "execution_count": 1,
      "outputs": [
        {
          "output_type": "stream",
          "text": [
            "Using TensorFlow backend.\n"
          ],
          "name": "stderr"
        }
      ]
    },
    {
      "metadata": {
        "id": "-Ww59NHhSC3E",
        "colab_type": "text"
      },
      "cell_type": "markdown",
      "source": [
        "## Load, split and preprocess the dataset"
      ]
    },
    {
      "metadata": {
        "id": "qJkMG3eeR8y_",
        "colab_type": "code",
        "colab": {}
      },
      "cell_type": "code",
      "source": [
        "(x_train, y_train), (x_tv, y_tv) = mnist.load_data()\n",
        "x_val, x_test, y_val, y_test = train_test_split(x_tv, y_tv, \n",
        "                                                test_size=0.5, random_state=42)\n",
        "\n",
        "rows, cols = 28, 28\n",
        "num_classes = 10\n",
        "\n",
        "x_train = x_train.reshape(x_train.shape[0], rows, cols, 1)\n",
        "x_val = x_val.reshape(x_val.shape[0], rows, cols, 1)\n",
        "x_test = x_test.reshape(x_test.shape[0], rows, cols, 1)\n",
        "input_shape = (rows, cols, 1)\n",
        "\n",
        "x_train = x_train.astype('float32') / 255\n",
        "x_val = x_val.astype('float32') / 255\n",
        "x_test = x_test.astype('float32') / 255\n",
        "\n",
        "y_train = keras.utils.to_categorical(y_train, num_classes)\n",
        "y_val = keras.utils.to_categorical(y_val, num_classes)\n",
        "y_test = keras.utils.to_categorical(y_test, num_classes)"
      ],
      "execution_count": 0,
      "outputs": []
    },
    {
      "metadata": {
        "id": "WrNa8919ShRZ",
        "colab_type": "text"
      },
      "cell_type": "markdown",
      "source": [
        "##Define basic CNN"
      ]
    },
    {
      "metadata": {
        "id": "0ZMxE90-SYrV",
        "colab_type": "code",
        "colab": {}
      },
      "cell_type": "code",
      "source": [
        "model = Sequential()\n",
        "\n",
        "model.add(Conv2D(32, (3, 3),\n",
        "                 activation='relu',\n",
        "                 input_shape=input_shape))\n",
        "\n",
        "model.add(Conv2D(64, (3, 3)))\n",
        "model.add(BatchNormalization())\n",
        "model.add(Activation('relu'))\n",
        "model.add(MaxPooling2D(pool_size=(2, 2)))\n",
        "model.add(Dropout(0.3))\n",
        "\n",
        "model.add(Conv2D(128, (3, 3)))\n",
        "model.add(BatchNormalization())\n",
        "model.add(Activation('relu'))\n",
        "model.add(MaxPooling2D(pool_size=(2, 2)))\n",
        "model.add(Dropout(0.3))\n",
        "\n",
        "model.add(Flatten())\n",
        "model.add(Dense(256))\n",
        "model.add(Activation('relu'))\n",
        "model.add(Dropout(0.5))\n",
        "\n",
        "model.add(Dense(num_classes, activation='softmax'))\n",
        "\n",
        "model.compile(loss=keras.losses.categorical_crossentropy,\n",
        "              optimizer=keras.optimizers.Adadelta(),\n",
        "              metrics=['accuracy'])"
      ],
      "execution_count": 0,
      "outputs": []
    },
    {
      "metadata": {
        "id": "4Syt_ueGSphA",
        "colab_type": "text"
      },
      "cell_type": "markdown",
      "source": [
        "##Training process"
      ]
    },
    {
      "metadata": {
        "id": "JgIqsayRSk8n",
        "colab_type": "code",
        "colab": {
          "base_uri": "https://localhost:8080/",
          "height": 1428
        },
        "outputId": "a146ac87-958e-4e65-8c4e-9cfab9bbd5bf"
      },
      "cell_type": "code",
      "source": [
        "early_stopping = EarlyStopping(monitor='val_acc', mode='max', patience=5, verbose=1)\n",
        "model_checkpoint = ModelCheckpoint('best.model', monitor='val_acc', mode='max', save_best_only=True, verbose=1)\n",
        "reduce_lr_on_plateau = ReduceLROnPlateau(monitor='val_acc', mode='max', factor=0.7, patience=3, verbose=1)\n",
        "\n",
        "model.fit(x_train, y_train,\n",
        "          batch_size=512,\n",
        "          epochs=100,\n",
        "          callbacks=[early_stopping, model_checkpoint, reduce_lr_on_plateau],\n",
        "          verbose=1,\n",
        "          validation_data=(x_val, y_val))"
      ],
      "execution_count": 4,
      "outputs": [
        {
          "output_type": "stream",
          "text": [
            "Train on 60000 samples, validate on 5000 samples\n",
            "Epoch 1/100\n",
            "60000/60000 [==============================] - 11s 191us/step - loss: 0.7898 - acc: 0.8107 - val_loss: 0.1005 - val_acc: 0.9680\n",
            "\n",
            "Epoch 00001: val_acc improved from -inf to 0.96800, saving model to best.model\n",
            "Epoch 2/100\n",
            "60000/60000 [==============================] - 9s 156us/step - loss: 0.1487 - acc: 0.9546 - val_loss: 0.0563 - val_acc: 0.9842\n",
            "\n",
            "Epoch 00002: val_acc improved from 0.96800 to 0.98420, saving model to best.model\n",
            "Epoch 3/100\n",
            "60000/60000 [==============================] - 9s 155us/step - loss: 0.0978 - acc: 0.9705 - val_loss: 0.0686 - val_acc: 0.9776\n",
            "\n",
            "Epoch 00003: val_acc did not improve from 0.98420\n",
            "Epoch 4/100\n",
            "60000/60000 [==============================] - 9s 156us/step - loss: 0.0741 - acc: 0.9782 - val_loss: 0.3234 - val_acc: 0.9070\n",
            "\n",
            "Epoch 00004: val_acc did not improve from 0.98420\n",
            "Epoch 5/100\n",
            "60000/60000 [==============================] - 9s 156us/step - loss: 0.0662 - acc: 0.9802 - val_loss: 0.0339 - val_acc: 0.9886\n",
            "\n",
            "Epoch 00005: val_acc improved from 0.98420 to 0.98860, saving model to best.model\n",
            "Epoch 6/100\n",
            "60000/60000 [==============================] - 9s 156us/step - loss: 0.0565 - acc: 0.9829 - val_loss: 0.0287 - val_acc: 0.9910\n",
            "\n",
            "Epoch 00006: val_acc improved from 0.98860 to 0.99100, saving model to best.model\n",
            "Epoch 7/100\n",
            "60000/60000 [==============================] - 9s 156us/step - loss: 0.0517 - acc: 0.9841 - val_loss: 0.0237 - val_acc: 0.9932\n",
            "\n",
            "Epoch 00007: val_acc improved from 0.99100 to 0.99320, saving model to best.model\n",
            "Epoch 8/100\n",
            "60000/60000 [==============================] - 9s 155us/step - loss: 0.0455 - acc: 0.9860 - val_loss: 0.0213 - val_acc: 0.9940\n",
            "\n",
            "Epoch 00008: val_acc improved from 0.99320 to 0.99400, saving model to best.model\n",
            "Epoch 9/100\n",
            "60000/60000 [==============================] - 9s 156us/step - loss: 0.0437 - acc: 0.9870 - val_loss: 0.0307 - val_acc: 0.9914\n",
            "\n",
            "Epoch 00009: val_acc did not improve from 0.99400\n",
            "Epoch 10/100\n",
            "60000/60000 [==============================] - 9s 156us/step - loss: 0.0400 - acc: 0.9877 - val_loss: 0.0307 - val_acc: 0.9904\n",
            "\n",
            "Epoch 00010: val_acc did not improve from 0.99400\n",
            "Epoch 11/100\n",
            "60000/60000 [==============================] - 9s 157us/step - loss: 0.0384 - acc: 0.9881 - val_loss: 0.0256 - val_acc: 0.9914\n",
            "\n",
            "Epoch 00011: val_acc did not improve from 0.99400\n",
            "\n",
            "Epoch 00011: ReduceLROnPlateau reducing learning rate to 0.7.\n",
            "Epoch 12/100\n",
            "60000/60000 [==============================] - 9s 156us/step - loss: 0.0314 - acc: 0.9908 - val_loss: 0.0208 - val_acc: 0.9942\n",
            "\n",
            "Epoch 00012: val_acc improved from 0.99400 to 0.99420, saving model to best.model\n",
            "Epoch 13/100\n",
            "60000/60000 [==============================] - 9s 156us/step - loss: 0.0308 - acc: 0.9907 - val_loss: 0.0164 - val_acc: 0.9948\n",
            "\n",
            "Epoch 00013: val_acc improved from 0.99420 to 0.99480, saving model to best.model\n",
            "Epoch 14/100\n",
            "60000/60000 [==============================] - 9s 156us/step - loss: 0.0283 - acc: 0.9911 - val_loss: 0.0154 - val_acc: 0.9956\n",
            "\n",
            "Epoch 00014: val_acc improved from 0.99480 to 0.99560, saving model to best.model\n",
            "Epoch 15/100\n",
            "60000/60000 [==============================] - 9s 157us/step - loss: 0.0261 - acc: 0.9916 - val_loss: 0.0169 - val_acc: 0.9950\n",
            "\n",
            "Epoch 00015: val_acc did not improve from 0.99560\n",
            "Epoch 16/100\n",
            "60000/60000 [==============================] - 9s 156us/step - loss: 0.0274 - acc: 0.9915 - val_loss: 0.0193 - val_acc: 0.9944\n",
            "\n",
            "Epoch 00016: val_acc did not improve from 0.99560\n",
            "Epoch 17/100\n",
            "60000/60000 [==============================] - 9s 156us/step - loss: 0.0254 - acc: 0.9918 - val_loss: 0.0193 - val_acc: 0.9942\n",
            "\n",
            "Epoch 00017: val_acc did not improve from 0.99560\n",
            "\n",
            "Epoch 00017: ReduceLROnPlateau reducing learning rate to 0.4899999916553497.\n",
            "Epoch 18/100\n",
            "60000/60000 [==============================] - 9s 156us/step - loss: 0.0235 - acc: 0.9927 - val_loss: 0.0161 - val_acc: 0.9952\n",
            "\n",
            "Epoch 00018: val_acc did not improve from 0.99560\n",
            "Epoch 19/100\n",
            "60000/60000 [==============================] - 9s 156us/step - loss: 0.0213 - acc: 0.9932 - val_loss: 0.0155 - val_acc: 0.9950\n",
            "\n",
            "Epoch 00019: val_acc did not improve from 0.99560\n",
            "Epoch 00019: early stopping\n"
          ],
          "name": "stdout"
        },
        {
          "output_type": "execute_result",
          "data": {
            "text/plain": [
              "<keras.callbacks.History at 0x7f53fa29ab70>"
            ]
          },
          "metadata": {
            "tags": []
          },
          "execution_count": 4
        }
      ]
    },
    {
      "metadata": {
        "id": "02dOMSPPS62A",
        "colab_type": "text"
      },
      "cell_type": "markdown",
      "source": [
        "##Results"
      ]
    },
    {
      "metadata": {
        "id": "g3vL4lJ-SxqZ",
        "colab_type": "code",
        "colab": {
          "base_uri": "https://localhost:8080/",
          "height": 51
        },
        "outputId": "bc6f9ea1-dd7f-4339-ba98-436583130021"
      },
      "cell_type": "code",
      "source": [
        "model = load_model('best.model')\n",
        "score = model.evaluate(x_test, y_test, verbose=0)\n",
        "print(f'Test loss: {score[0]: 0.5f}')\n",
        "print(f'Test accuracy:{score[1]: 0.5f}')"
      ],
      "execution_count": 6,
      "outputs": [
        {
          "output_type": "stream",
          "text": [
            "Test loss:  0.02150\n",
            "Test accuracy: 0.99220\n"
          ],
          "name": "stdout"
        }
      ]
    },
    {
      "metadata": {
        "id": "3Ln3hvwzTA48",
        "colab_type": "code",
        "colab": {}
      },
      "cell_type": "code",
      "source": [
        ""
      ],
      "execution_count": 0,
      "outputs": []
    }
  ]
}