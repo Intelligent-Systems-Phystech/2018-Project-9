{
 "cells": [
  {
   "cell_type": "markdown",
   "metadata": {},
   "source": [
    "## Imports"
   ]
  },
  {
   "cell_type": "code",
   "execution_count": 1,
   "metadata": {},
   "outputs": [
    {
     "name": "stderr",
     "output_type": "stream",
     "text": [
      "Using TensorFlow backend.\n"
     ]
    }
   ],
   "source": [
    "import os\n",
    "os.environ[\"CUDA_DEVICE_ORDER\"]=\"PCI_BUS_ID\"\n",
    "os.environ[\"CUDA_VISIBLE_DEVICES\"]=\"4\"\n",
    "\n",
    "import keras\n",
    "from keras.models import Sequential, load_model\n",
    "from keras.layers import Dense, Dropout, Flatten\n",
    "from keras.layers import Conv2D, MaxPooling2D\n",
    "from keras import backend as K\n",
    "from keras.callbacks import EarlyStopping, ModelCheckpoint, ReduceLROnPlateau, TensorBoard\n",
    "from keras.utils import plot_model\n",
    "\n",
    "import pickle\n",
    "import numpy as np\n",
    "import matplotlib.pyplot as plt\n",
    "%matplotlib inline\n",
    "\n",
    "batch_size = 512\n",
    "num_classes = 10\n",
    "img_rows, img_cols = 28, 28"
   ]
  },
  {
   "cell_type": "markdown",
   "metadata": {},
   "source": [
    "## Load data"
   ]
  },
  {
   "cell_type": "code",
   "execution_count": 2,
   "metadata": {},
   "outputs": [],
   "source": [
    "X_train, y_train, X_train_skel_features = None, None, None\n",
    "with open(\"data/train_info\", \"rb\") as fin:\n",
    "    data = pickle.load(fin)\n",
    "    X_train, y_train, X_train_skel_features = data[\"data\"], data[\"labels\"], data[\"skel_features\"]\n",
    "\n",
    "X_test, y_test, X_test_skel_features = None, None, None\n",
    "with open(\"data/test_info\", \"rb\") as fin:\n",
    "    data = pickle.load(fin)\n",
    "    X_test, y_test, X_test_skel_features = data[\"data\"], data[\"labels\"], data[\"skel_features\"]    "
   ]
  },
  {
   "cell_type": "markdown",
   "metadata": {},
   "source": [
    "## Create data for network"
   ]
  },
  {
   "cell_type": "code",
   "execution_count": 3,
   "metadata": {},
   "outputs": [],
   "source": [
    "x_train = X_train.reshape(X_train.shape[0], img_rows, img_cols, 1)\n",
    "x_test = X_test.reshape(X_test.shape[0], img_rows, img_cols, 1)\n",
    "input_shape = (img_rows, img_cols, 1)\n",
    "\n",
    "x_train = x_train.astype('float32')\n",
    "x_test = x_test.astype('float32')\n",
    "\n",
    "y_train = keras.utils.to_categorical(y_train, num_classes)\n",
    "y_test = keras.utils.to_categorical(y_test, num_classes)"
   ]
  },
  {
   "cell_type": "markdown",
   "metadata": {},
   "source": [
    "## Create f1 score"
   ]
  },
  {
   "cell_type": "code",
   "execution_count": 4,
   "metadata": {},
   "outputs": [],
   "source": [
    "def f1(y_true, y_pred):\n",
    "    def recall(y_true, y_pred):\n",
    "        true_positives = K.sum(K.round(K.clip(y_true * y_pred, 0, 1)))\n",
    "        possible_positives = K.sum(K.round(K.clip(y_true, 0, 1)))\n",
    "        recall = true_positives / (possible_positives + K.epsilon())\n",
    "        return recall\n",
    "\n",
    "    def precision(y_true, y_pred):\n",
    "        true_positives = K.sum(K.round(K.clip(y_true * y_pred, 0, 1)))\n",
    "        predicted_positives = K.sum(K.round(K.clip(y_pred, 0, 1)))\n",
    "        precision = true_positives / (predicted_positives + K.epsilon())\n",
    "        return precision\n",
    "    \n",
    "    precision = precision(y_true, y_pred)\n",
    "    recall = recall(y_true, y_pred)\n",
    "    return 2*((precision*recall)/(precision+recall+K.epsilon()))"
   ]
  },
  {
   "cell_type": "markdown",
   "metadata": {},
   "source": [
    "## Generate model"
   ]
  },
  {
   "cell_type": "code",
   "execution_count": 5,
   "metadata": {
    "scrolled": false
   },
   "outputs": [
    {
     "name": "stdout",
     "output_type": "stream",
     "text": [
      "_________________________________________________________________\n",
      "Layer (type)                 Output Shape              Param #   \n",
      "=================================================================\n",
      "conv2d_1 (Conv2D)            (None, 26, 26, 32)        320       \n",
      "_________________________________________________________________\n",
      "conv2d_2 (Conv2D)            (None, 24, 24, 64)        18496     \n",
      "_________________________________________________________________\n",
      "max_pooling2d_1 (MaxPooling2 (None, 12, 12, 64)        0         \n",
      "_________________________________________________________________\n",
      "dropout_1 (Dropout)          (None, 12, 12, 64)        0         \n",
      "_________________________________________________________________\n",
      "flatten_1 (Flatten)          (None, 9216)              0         \n",
      "_________________________________________________________________\n",
      "dense_1 (Dense)              (None, 128)               1179776   \n",
      "_________________________________________________________________\n",
      "dropout_2 (Dropout)          (None, 128)               0         \n",
      "_________________________________________________________________\n",
      "dense_2 (Dense)              (None, 10)                1290      \n",
      "=================================================================\n",
      "Total params: 1,199,882\n",
      "Trainable params: 1,199,882\n",
      "Non-trainable params: 0\n",
      "_________________________________________________________________\n"
     ]
    }
   ],
   "source": [
    "model = Sequential()\n",
    "model.add(Conv2D(32, (3, 3),\n",
    "                 activation='relu',\n",
    "                 input_shape=input_shape))\n",
    "model.add(Conv2D(64, (3, 3), activation='relu'))\n",
    "model.add(MaxPooling2D(pool_size=(2, 2)))\n",
    "model.add(Dropout(0.25))\n",
    "model.add(Flatten())\n",
    "model.add(Dense(128, activation='relu'))\n",
    "model.add(Dropout(0.5))\n",
    "model.add(Dense(num_classes, activation='softmax'))\n",
    "\n",
    "model.compile(loss=\"categorical_crossentropy\",\n",
    "              optimizer=\"adam\",\n",
    "              metrics=['accuracy', f1])\n",
    "model.summary()"
   ]
  },
  {
   "cell_type": "markdown",
   "metadata": {},
   "source": [
    "## Create callbacks"
   ]
  },
  {
   "cell_type": "code",
   "execution_count": 6,
   "metadata": {},
   "outputs": [],
   "source": [
    "early_stopping = EarlyStopping(monitor='val_loss', mode='min', patience=5, verbose=1)\n",
    "model_checkpoint = ModelCheckpoint('model_cnn.h5', monitor='val_loss', mode='min', save_best_only=True, verbose=1)\n",
    "reduce_lr = ReduceLROnPlateau(monitor='val_loss', mode='min', factor=0.5, patience=3, verbose=1)\n",
    "tbCallBack = TensorBoard(log_dir='./Graph', histogram_freq=0, write_graph=True, write_images=True)\n",
    "\n",
    "callbacks=[early_stopping, model_checkpoint, reduce_lr, tbCallBack]"
   ]
  },
  {
   "cell_type": "markdown",
   "metadata": {},
   "source": [
    "## Fit model"
   ]
  },
  {
   "cell_type": "code",
   "execution_count": 7,
   "metadata": {
    "scrolled": true
   },
   "outputs": [
    {
     "name": "stdout",
     "output_type": "stream",
     "text": [
      "Train on 60000 samples, validate on 10000 samples\n",
      "Epoch 1/10000\n",
      "60000/60000 [==============================] - 4s 62us/step - loss: 0.4228 - acc: 0.8715 - f1: 0.8493 - val_loss: 0.0999 - val_acc: 0.9693 - val_f1: 0.9699\n",
      "\n",
      "Epoch 00001: val_loss improved from inf to 0.09993, saving model to model_cnn.h5\n",
      "Epoch 2/10000\n",
      "60000/60000 [==============================] - 2s 37us/step - loss: 0.1322 - acc: 0.9607 - f1: 0.9606 - val_loss: 0.0669 - val_acc: 0.9790 - val_f1: 0.9795\n",
      "\n",
      "Epoch 00002: val_loss improved from 0.09993 to 0.06689, saving model to model_cnn.h5\n",
      "Epoch 3/10000\n",
      "60000/60000 [==============================] - 2s 37us/step - loss: 0.0964 - acc: 0.9705 - f1: 0.9709 - val_loss: 0.0520 - val_acc: 0.9831 - val_f1: 0.9836\n",
      "\n",
      "Epoch 00003: val_loss improved from 0.06689 to 0.05203, saving model to model_cnn.h5\n",
      "Epoch 4/10000\n",
      "60000/60000 [==============================] - 2s 37us/step - loss: 0.0802 - acc: 0.9746 - f1: 0.9749 - val_loss: 0.0486 - val_acc: 0.9847 - val_f1: 0.9849\n",
      "\n",
      "Epoch 00004: val_loss improved from 0.05203 to 0.04856, saving model to model_cnn.h5\n",
      "Epoch 5/10000\n",
      "60000/60000 [==============================] - 2s 37us/step - loss: 0.0689 - acc: 0.9784 - f1: 0.9787 - val_loss: 0.0455 - val_acc: 0.9846 - val_f1: 0.9848\n",
      "\n",
      "Epoch 00005: val_loss improved from 0.04856 to 0.04553, saving model to model_cnn.h5\n",
      "Epoch 6/10000\n",
      "60000/60000 [==============================] - 2s 39us/step - loss: 0.0609 - acc: 0.9811 - f1: 0.9815 - val_loss: 0.0467 - val_acc: 0.9853 - val_f1: 0.9852\n",
      "\n",
      "Epoch 00006: val_loss did not improve from 0.04553\n",
      "Epoch 7/10000\n",
      "60000/60000 [==============================] - 2s 37us/step - loss: 0.0531 - acc: 0.9830 - f1: 0.9832 - val_loss: 0.0426 - val_acc: 0.9862 - val_f1: 0.9862\n",
      "\n",
      "Epoch 00007: val_loss improved from 0.04553 to 0.04261, saving model to model_cnn.h5\n",
      "Epoch 8/10000\n",
      "60000/60000 [==============================] - 2s 39us/step - loss: 0.0489 - acc: 0.9853 - f1: 0.9852 - val_loss: 0.0418 - val_acc: 0.9863 - val_f1: 0.9865\n",
      "\n",
      "Epoch 00008: val_loss improved from 0.04261 to 0.04180, saving model to model_cnn.h5\n",
      "Epoch 9/10000\n",
      "60000/60000 [==============================] - 2s 39us/step - loss: 0.0450 - acc: 0.9858 - f1: 0.9859 - val_loss: 0.0421 - val_acc: 0.9871 - val_f1: 0.9875\n",
      "\n",
      "Epoch 00009: val_loss did not improve from 0.04180\n",
      "Epoch 10/10000\n",
      "60000/60000 [==============================] - 2s 37us/step - loss: 0.0415 - acc: 0.9867 - f1: 0.9868 - val_loss: 0.0475 - val_acc: 0.9855 - val_f1: 0.9859\n",
      "\n",
      "Epoch 00010: val_loss did not improve from 0.04180\n",
      "Epoch 11/10000\n",
      "60000/60000 [==============================] - 2s 38us/step - loss: 0.0392 - acc: 0.9877 - f1: 0.9876 - val_loss: 0.0412 - val_acc: 0.9869 - val_f1: 0.9873\n",
      "\n",
      "Epoch 00011: val_loss improved from 0.04180 to 0.04118, saving model to model_cnn.h5\n",
      "Epoch 12/10000\n",
      "60000/60000 [==============================] - 2s 37us/step - loss: 0.0344 - acc: 0.9888 - f1: 0.9888 - val_loss: 0.0416 - val_acc: 0.9872 - val_f1: 0.9869\n",
      "\n",
      "Epoch 00012: val_loss did not improve from 0.04118\n",
      "Epoch 13/10000\n",
      "60000/60000 [==============================] - 2s 37us/step - loss: 0.0327 - acc: 0.9890 - f1: 0.9893 - val_loss: 0.0388 - val_acc: 0.9882 - val_f1: 0.9883\n",
      "\n",
      "Epoch 00013: val_loss improved from 0.04118 to 0.03879, saving model to model_cnn.h5\n",
      "Epoch 14/10000\n",
      "60000/60000 [==============================] - 2s 37us/step - loss: 0.0308 - acc: 0.9900 - f1: 0.9900 - val_loss: 0.0415 - val_acc: 0.9875 - val_f1: 0.9877\n",
      "\n",
      "Epoch 00014: val_loss did not improve from 0.03879\n",
      "Epoch 15/10000\n",
      "60000/60000 [==============================] - 2s 39us/step - loss: 0.0269 - acc: 0.9909 - f1: 0.9909 - val_loss: 0.0440 - val_acc: 0.9874 - val_f1: 0.9874\n",
      "\n",
      "Epoch 00015: val_loss did not improve from 0.03879\n",
      "Epoch 16/10000\n",
      "60000/60000 [==============================] - 2s 37us/step - loss: 0.0274 - acc: 0.9910 - f1: 0.9911 - val_loss: 0.0440 - val_acc: 0.9879 - val_f1: 0.9882\n",
      "\n",
      "Epoch 00016: val_loss did not improve from 0.03879\n",
      "\n",
      "Epoch 00016: ReduceLROnPlateau reducing learning rate to 0.0005000000237487257.\n",
      "Epoch 17/10000\n",
      "60000/60000 [==============================] - 2s 37us/step - loss: 0.0212 - acc: 0.9928 - f1: 0.9928 - val_loss: 0.0450 - val_acc: 0.9879 - val_f1: 0.9876\n",
      "\n",
      "Epoch 00017: val_loss did not improve from 0.03879\n",
      "Epoch 18/10000\n",
      "60000/60000 [==============================] - 2s 37us/step - loss: 0.0190 - acc: 0.9934 - f1: 0.9935 - val_loss: 0.0458 - val_acc: 0.9877 - val_f1: 0.9877\n",
      "\n",
      "Epoch 00018: val_loss did not improve from 0.03879\n",
      "Epoch 00018: early stopping\n"
     ]
    }
   ],
   "source": [
    "history = model.fit(x_train, y_train,\n",
    "          batch_size=batch_size,\n",
    "          epochs=10000,\n",
    "          callbacks=callbacks,\n",
    "          verbose=1,\n",
    "          validation_data=(x_test, y_test))"
   ]
  },
  {
   "cell_type": "code",
   "execution_count": 8,
   "metadata": {},
   "outputs": [
    {
     "data": {
      "text/plain": [
       "<matplotlib.legend.Legend at 0x7f83f01689b0>"
      ]
     },
     "execution_count": 8,
     "metadata": {},
     "output_type": "execute_result"
    },
    {
     "data": {
      "image/png": "[encoded data removed]",
      "text/plain": [
       "<Figure size 1080x360 with 3 Axes>"
      ]
     },
     "metadata": {},
     "output_type": "display_data"
    }
   ],
   "source": [
    "fig, ax = plt.subplots(1, 3, figsize=(15,5))\n",
    "ax[0].set_title('Loss')\n",
    "ax[0].plot(history.epoch, history.history[\"loss\"], label=\"Train Loss\")\n",
    "ax[0].plot(history.epoch, history.history[\"val_loss\"], label=\"Validation Loss\")\n",
    "ax[1].set_title('Accuracy')\n",
    "ax[1].plot(history.epoch, history.history[\"acc\"], label=\"Train accuracy\")\n",
    "ax[1].plot(history.epoch, history.history[\"val_acc\"], label=\"Validation accuracy\")\n",
    "ax[2].set_title('F1_score')\n",
    "ax[2].plot(history.epoch, history.history[\"f1\"], label=\"Train F1_score\")\n",
    "ax[2].plot(history.epoch, history.history[\"val_f1\"], label=\"Validation F1_score\")\n",
    "ax[0].legend()\n",
    "ax[1].legend()\n",
    "ax[2].legend()"
   ]
  },
  {
   "cell_type": "markdown",
   "metadata": {},
   "source": [
    "## Score model"
   ]
  },
  {
   "cell_type": "code",
   "execution_count": 9,
   "metadata": {},
   "outputs": [
    {
     "name": "stdout",
     "output_type": "stream",
     "text": [
      "Test loss: 0.03878547941138131\n",
      "Test accuracy: 0.9882\n",
      "Test f1_score: 0.9883190298080444\n"
     ]
    }
   ],
   "source": [
    "model = load_model('model_cnn.h5', custom_objects={'f1': f1})\n",
    "score = model.evaluate(x_test, y_test, verbose=0)\n",
    "print('Test loss:', score[0])\n",
    "print('Test accuracy:', score[1])\n",
    "print('Test f1_score:', score[2])"
   ]
  }
 ],
 "metadata": {
  "kernelspec": {
   "display_name": "Python 3",
   "language": "python",
   "name": "python3"
  },
  "language_info": {
   "codemirror_mode": {
    "name": "ipython",
    "version": 3
   },
   "file_extension": ".py",
   "mimetype": "text/x-python",
   "name": "python",
   "nbconvert_exporter": "python",
   "pygments_lexer": "ipython3",
   "version": "3.6.5"
  }
 },
 "nbformat": 4,
 "nbformat_minor": 2
}
