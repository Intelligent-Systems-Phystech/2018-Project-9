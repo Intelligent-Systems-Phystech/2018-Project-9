{
 "cells": [
  {
   "cell_type": "markdown",
   "metadata": {},
   "source": [
    "## Imports"
   ]
  },
  {
   "cell_type": "code",
   "execution_count": 1,
   "metadata": {},
   "outputs": [
    {
     "name": "stderr",
     "output_type": "stream",
     "text": [
      "Using TensorFlow backend.\n"
     ]
    }
   ],
   "source": [
    "import os\n",
    "os.environ[\"CUDA_DEVICE_ORDER\"]=\"PCI_BUS_ID\"\n",
    "os.environ[\"CUDA_VISIBLE_DEVICES\"]=\"4\"\n",
    "\n",
    "import keras\n",
    "from keras.models import Sequential, load_model\n",
    "from keras.layers import Dense, Dropout, Flatten\n",
    "from keras.layers import Conv2D, MaxPooling2D\n",
    "from keras import backend as K\n",
    "from keras.callbacks import EarlyStopping, ModelCheckpoint, ReduceLROnPlateau\n",
    "\n",
    "import pickle\n",
    "import numpy as np\n",
    "import matplotlib.pyplot as plt\n",
    "%matplotlib inline\n",
    "\n",
    "batch_size = 512\n",
    "num_classes = 10\n",
    "img_rows, img_cols = 28, 28"
   ]
  },
  {
   "cell_type": "markdown",
   "metadata": {},
   "source": [
    "## Load data"
   ]
  },
  {
   "cell_type": "code",
   "execution_count": 2,
   "metadata": {},
   "outputs": [],
   "source": [
    "X_train, y_train, X_train_skel_features = None, None, None\n",
    "with open(\"data/train_info\", \"rb\") as fin:\n",
    "    data = pickle.load(fin)\n",
    "    X_train, y_train, X_train_skel_features = data[\"data\"], data[\"labels\"], data[\"skel_features\"]\n",
    "\n",
    "X_test, y_test, X_test_skel_features = None, None, None\n",
    "with open(\"data/test_info\", \"rb\") as fin:\n",
    "    data = pickle.load(fin)\n",
    "    X_test, y_test, X_test_skel_features = data[\"data\"], data[\"labels\"], data[\"skel_features\"]    "
   ]
  },
  {
   "cell_type": "markdown",
   "metadata": {},
   "source": [
    "## Create data for network"
   ]
  },
  {
   "cell_type": "code",
   "execution_count": 3,
   "metadata": {},
   "outputs": [],
   "source": [
    "x_train = X_train.reshape(X_train.shape[0], img_rows, img_cols, 1)\n",
    "x_test = X_test.reshape(X_test.shape[0], img_rows, img_cols, 1)\n",
    "input_shape = (img_rows, img_cols, 1)\n",
    "\n",
    "x_train = x_train.astype('float32')\n",
    "x_test = x_test.astype('float32')\n",
    "\n",
    "y_train = keras.utils.to_categorical(y_train, num_classes)\n",
    "y_test = keras.utils.to_categorical(y_test, num_classes)"
   ]
  },
  {
   "cell_type": "markdown",
   "metadata": {},
   "source": [
    "## Create f1 score"
   ]
  },
  {
   "cell_type": "code",
   "execution_count": 4,
   "metadata": {},
   "outputs": [],
   "source": [
    "def f1(y_true, y_pred):\n",
    "    def recall(y_true, y_pred):\n",
    "        true_positives = K.sum(K.round(K.clip(y_true * y_pred, 0, 1)))\n",
    "        possible_positives = K.sum(K.round(K.clip(y_true, 0, 1)))\n",
    "        recall = true_positives / (possible_positives + K.epsilon())\n",
    "        return recall\n",
    "\n",
    "    def precision(y_true, y_pred):\n",
    "        true_positives = K.sum(K.round(K.clip(y_true * y_pred, 0, 1)))\n",
    "        predicted_positives = K.sum(K.round(K.clip(y_pred, 0, 1)))\n",
    "        precision = true_positives / (predicted_positives + K.epsilon())\n",
    "        return precision\n",
    "    \n",
    "    precision = precision(y_true, y_pred)\n",
    "    recall = recall(y_true, y_pred)\n",
    "    return 2*((precision*recall)/(precision+recall+K.epsilon()))"
   ]
  },
  {
   "cell_type": "markdown",
   "metadata": {},
   "source": [
    "## Generate model"
   ]
  },
  {
   "cell_type": "code",
   "execution_count": 5,
   "metadata": {},
   "outputs": [],
   "source": [
    "model = Sequential()\n",
    "model.add(Conv2D(32, (3, 3),\n",
    "                 activation='relu',\n",
    "                 input_shape=input_shape))\n",
    "model.add(Conv2D(64, (3, 3), activation='relu'))\n",
    "model.add(MaxPooling2D(pool_size=(2, 2)))\n",
    "model.add(Dropout(0.25))\n",
    "model.add(Conv2D(32, (3, 3), activation='relu'))\n",
    "model.add(MaxPooling2D(pool_size=(2, 2)))\n",
    "model.add(Dropout(0.25))\n",
    "model.add(Conv2D(16, (3, 3), activation='relu'))\n",
    "model.add(MaxPooling2D(pool_size=(2, 2)))\n",
    "model.add(Dropout(0.25))\n",
    "model.add(Flatten())\n",
    "model.add(Dense(128, activation='relu'))\n",
    "model.add(Dropout(0.5))\n",
    "model.add(Dense(num_classes, activation='softmax'))\n",
    "\n",
    "model.compile(loss=keras.losses.categorical_crossentropy,\n",
    "              optimizer=keras.optimizers.Adadelta(),\n",
    "              metrics=['accuracy', f1])"
   ]
  },
  {
   "cell_type": "markdown",
   "metadata": {},
   "source": [
    "## Create callbacks"
   ]
  },
  {
   "cell_type": "code",
   "execution_count": 6,
   "metadata": {},
   "outputs": [],
   "source": [
    "early_stopping = EarlyStopping(monitor='val_acc', mode='max', patience=5, verbose=1)\n",
    "model_checkpoint = ModelCheckpoint('best_model.h5', monitor='val_acc', mode='max', save_best_only=True, verbose=1)\n",
    "reduce_lr = ReduceLROnPlateau(monitor='val_acc', mode='max', factor=0.5, patience=3, verbose=1)\n",
    "callbacks=[early_stopping, model_checkpoint, reduce_lr]"
   ]
  },
  {
   "cell_type": "markdown",
   "metadata": {},
   "source": [
    "## Fit model"
   ]
  },
  {
   "cell_type": "code",
   "execution_count": 7,
   "metadata": {
    "scrolled": true
   },
   "outputs": [
    {
     "name": "stdout",
     "output_type": "stream",
     "text": [
      "Train on 60000 samples, validate on 10000 samples\n",
      "Epoch 1/10000\n",
      "60000/60000 [==============================] - 11s 177us/step - loss: 1.5576 - acc: 0.4479 - f1: 0.3547 - val_loss: 0.4042 - val_acc: 0.8751 - val_f1: 0.8590\n",
      "\n",
      "Epoch 00001: val_acc improved from -inf to 0.87510, saving model to best_model.h5\n",
      "Epoch 2/10000\n",
      "60000/60000 [==============================] - 3s 44us/step - loss: 0.6752 - acc: 0.7822 - f1: 0.7760 - val_loss: 0.2249 - val_acc: 0.9335 - val_f1: 0.9340\n",
      "\n",
      "Epoch 00002: val_acc improved from 0.87510 to 0.93350, saving model to best_model.h5\n",
      "Epoch 3/10000\n",
      "60000/60000 [==============================] - 3s 45us/step - loss: 0.5032 - acc: 0.8405 - f1: 0.8400 - val_loss: 0.1732 - val_acc: 0.9510 - val_f1: 0.9514\n",
      "\n",
      "Epoch 00003: val_acc improved from 0.93350 to 0.95100, saving model to best_model.h5\n",
      "Epoch 4/10000\n",
      "60000/60000 [==============================] - 3s 45us/step - loss: 0.4213 - acc: 0.8657 - f1: 0.8671 - val_loss: 0.1441 - val_acc: 0.9572 - val_f1: 0.9573\n",
      "\n",
      "Epoch 00004: val_acc improved from 0.95100 to 0.95720, saving model to best_model.h5\n",
      "Epoch 5/10000\n",
      "60000/60000 [==============================] - 3s 44us/step - loss: 0.3829 - acc: 0.8797 - f1: 0.8815 - val_loss: 0.1445 - val_acc: 0.9589 - val_f1: 0.9593\n",
      "\n",
      "Epoch 00005: val_acc improved from 0.95720 to 0.95890, saving model to best_model.h5\n",
      "Epoch 6/10000\n",
      "60000/60000 [==============================] - 3s 46us/step - loss: 0.3555 - acc: 0.8888 - f1: 0.8906 - val_loss: 0.1662 - val_acc: 0.9541 - val_f1: 0.9530\n",
      "\n",
      "Epoch 00006: val_acc did not improve from 0.95890\n",
      "Epoch 7/10000\n",
      "60000/60000 [==============================] - 3s 46us/step - loss: 0.3231 - acc: 0.8985 - f1: 0.9003 - val_loss: 0.1158 - val_acc: 0.9670 - val_f1: 0.9667\n",
      "\n",
      "Epoch 00007: val_acc improved from 0.95890 to 0.96700, saving model to best_model.h5\n",
      "Epoch 8/10000\n",
      "60000/60000 [==============================] - 3s 44us/step - loss: 0.3026 - acc: 0.9029 - f1: 0.9056 - val_loss: 0.1052 - val_acc: 0.9692 - val_f1: 0.9700\n",
      "\n",
      "Epoch 00008: val_acc improved from 0.96700 to 0.96920, saving model to best_model.h5\n",
      "Epoch 9/10000\n",
      "60000/60000 [==============================] - 3s 44us/step - loss: 0.2840 - acc: 0.9123 - f1: 0.9143 - val_loss: 0.1177 - val_acc: 0.9663 - val_f1: 0.9655\n",
      "\n",
      "Epoch 00009: val_acc did not improve from 0.96920\n",
      "Epoch 10/10000\n",
      "60000/60000 [==============================] - 3s 47us/step - loss: 0.2729 - acc: 0.9150 - f1: 0.9161 - val_loss: 0.0887 - val_acc: 0.9738 - val_f1: 0.9744\n",
      "\n",
      "Epoch 00010: val_acc improved from 0.96920 to 0.97380, saving model to best_model.h5\n",
      "Epoch 11/10000\n",
      "60000/60000 [==============================] - 3s 45us/step - loss: 0.2637 - acc: 0.9179 - f1: 0.9204 - val_loss: 0.0828 - val_acc: 0.9755 - val_f1: 0.9758\n",
      "\n",
      "Epoch 00011: val_acc improved from 0.97380 to 0.97550, saving model to best_model.h5\n",
      "Epoch 12/10000\n",
      "60000/60000 [==============================] - 3s 44us/step - loss: 0.2543 - acc: 0.9210 - f1: 0.9224 - val_loss: 0.1046 - val_acc: 0.9696 - val_f1: 0.9699\n",
      "\n",
      "Epoch 00012: val_acc did not improve from 0.97550\n",
      "Epoch 13/10000\n",
      "60000/60000 [==============================] - 3s 47us/step - loss: 0.2435 - acc: 0.9248 - f1: 0.9265 - val_loss: 0.0804 - val_acc: 0.9758 - val_f1: 0.9762\n",
      "\n",
      "Epoch 00013: val_acc improved from 0.97550 to 0.97580, saving model to best_model.h5\n",
      "Epoch 14/10000\n",
      "60000/60000 [==============================] - 3s 44us/step - loss: 0.2351 - acc: 0.9277 - f1: 0.9295 - val_loss: 0.0703 - val_acc: 0.9783 - val_f1: 0.9789\n",
      "\n",
      "Epoch 00014: val_acc improved from 0.97580 to 0.97830, saving model to best_model.h5\n",
      "Epoch 15/10000\n",
      "60000/60000 [==============================] - 3s 44us/step - loss: 0.2311 - acc: 0.9288 - f1: 0.9303 - val_loss: 0.0816 - val_acc: 0.9763 - val_f1: 0.9760\n",
      "\n",
      "Epoch 00015: val_acc did not improve from 0.97830\n",
      "Epoch 16/10000\n",
      "60000/60000 [==============================] - 3s 47us/step - loss: 0.2244 - acc: 0.9313 - f1: 0.9326 - val_loss: 0.0733 - val_acc: 0.9784 - val_f1: 0.9783\n",
      "\n",
      "Epoch 00016: val_acc improved from 0.97830 to 0.97840, saving model to best_model.h5\n",
      "Epoch 17/10000\n",
      "60000/60000 [==============================] - 3s 44us/step - loss: 0.2200 - acc: 0.9325 - f1: 0.9339 - val_loss: 0.0658 - val_acc: 0.9798 - val_f1: 0.9804\n",
      "\n",
      "Epoch 00017: val_acc improved from 0.97840 to 0.97980, saving model to best_model.h5\n",
      "Epoch 18/10000\n",
      "60000/60000 [==============================] - 3s 45us/step - loss: 0.2148 - acc: 0.9347 - f1: 0.9362 - val_loss: 0.0626 - val_acc: 0.9808 - val_f1: 0.9814\n",
      "\n",
      "Epoch 00018: val_acc improved from 0.97980 to 0.98080, saving model to best_model.h5\n",
      "Epoch 19/10000\n",
      "60000/60000 [==============================] - 3s 46us/step - loss: 0.2104 - acc: 0.9367 - f1: 0.9372 - val_loss: 0.0673 - val_acc: 0.9798 - val_f1: 0.9805\n",
      "\n",
      "Epoch 00019: val_acc did not improve from 0.98080\n",
      "Epoch 20/10000\n",
      "60000/60000 [==============================] - 3s 44us/step - loss: 0.2066 - acc: 0.9373 - f1: 0.9381 - val_loss: 0.0667 - val_acc: 0.9799 - val_f1: 0.9804\n",
      "\n",
      "Epoch 00020: val_acc did not improve from 0.98080\n",
      "Epoch 21/10000\n",
      "60000/60000 [==============================] - 3s 44us/step - loss: 0.2004 - acc: 0.9386 - f1: 0.9393 - val_loss: 0.0688 - val_acc: 0.9789 - val_f1: 0.9797\n",
      "\n",
      "Epoch 00021: val_acc did not improve from 0.98080\n",
      "\n",
      "Epoch 00021: ReduceLROnPlateau reducing learning rate to 0.5.\n",
      "Epoch 22/10000\n",
      "60000/60000 [==============================] - 3s 47us/step - loss: 0.1930 - acc: 0.9409 - f1: 0.9428 - val_loss: 0.0603 - val_acc: 0.9819 - val_f1: 0.9820\n",
      "\n",
      "Epoch 00022: val_acc improved from 0.98080 to 0.98190, saving model to best_model.h5\n",
      "Epoch 23/10000\n",
      "60000/60000 [==============================] - 3s 44us/step - loss: 0.1883 - acc: 0.9429 - f1: 0.9441 - val_loss: 0.0591 - val_acc: 0.9826 - val_f1: 0.9833\n",
      "\n",
      "Epoch 00023: val_acc improved from 0.98190 to 0.98260, saving model to best_model.h5\n",
      "Epoch 24/10000\n",
      "60000/60000 [==============================] - 3s 44us/step - loss: 0.1871 - acc: 0.9433 - f1: 0.9451 - val_loss: 0.0583 - val_acc: 0.9821 - val_f1: 0.9823\n",
      "\n",
      "Epoch 00024: val_acc did not improve from 0.98260\n",
      "Epoch 25/10000\n",
      "60000/60000 [==============================] - 3s 47us/step - loss: 0.1875 - acc: 0.9433 - f1: 0.9448 - val_loss: 0.0566 - val_acc: 0.9823 - val_f1: 0.9830\n",
      "\n",
      "Epoch 00025: val_acc did not improve from 0.98260\n",
      "Epoch 26/10000\n",
      "60000/60000 [==============================] - 3s 44us/step - loss: 0.1801 - acc: 0.9454 - f1: 0.9467 - val_loss: 0.0574 - val_acc: 0.9829 - val_f1: 0.9831\n",
      "\n",
      "Epoch 00026: val_acc improved from 0.98260 to 0.98290, saving model to best_model.h5\n",
      "Epoch 27/10000\n",
      "60000/60000 [==============================] - 3s 44us/step - loss: 0.1814 - acc: 0.9440 - f1: 0.9452 - val_loss: 0.0604 - val_acc: 0.9811 - val_f1: 0.9812\n",
      "\n",
      "Epoch 00027: val_acc did not improve from 0.98290\n",
      "Epoch 28/10000\n",
      "60000/60000 [==============================] - 3s 46us/step - loss: 0.1782 - acc: 0.9461 - f1: 0.9473 - val_loss: 0.0551 - val_acc: 0.9834 - val_f1: 0.9834\n",
      "\n",
      "Epoch 00028: val_acc improved from 0.98290 to 0.98340, saving model to best_model.h5\n",
      "Epoch 29/10000\n",
      "60000/60000 [==============================] - 3s 45us/step - loss: 0.1789 - acc: 0.9467 - f1: 0.9479 - val_loss: 0.0572 - val_acc: 0.9829 - val_f1: 0.9829\n",
      "\n",
      "Epoch 00029: val_acc did not improve from 0.98340\n",
      "Epoch 30/10000\n",
      "60000/60000 [==============================] - 3s 43us/step - loss: 0.1786 - acc: 0.9459 - f1: 0.9467 - val_loss: 0.0548 - val_acc: 0.9827 - val_f1: 0.9824\n",
      "\n",
      "Epoch 00030: val_acc did not improve from 0.98340\n",
      "Epoch 31/10000\n",
      "60000/60000 [==============================] - 3s 44us/step - loss: 0.1755 - acc: 0.9470 - f1: 0.9481 - val_loss: 0.0549 - val_acc: 0.9838 - val_f1: 0.9837\n",
      "\n",
      "Epoch 00031: val_acc improved from 0.98340 to 0.98380, saving model to best_model.h5\n",
      "Epoch 32/10000\n",
      "60000/60000 [==============================] - 3s 47us/step - loss: 0.1715 - acc: 0.9482 - f1: 0.9494 - val_loss: 0.0553 - val_acc: 0.9829 - val_f1: 0.9838\n",
      "\n",
      "Epoch 00032: val_acc did not improve from 0.98380\n",
      "Epoch 33/10000\n",
      "60000/60000 [==============================] - 3s 46us/step - loss: 0.1745 - acc: 0.9472 - f1: 0.9487 - val_loss: 0.0528 - val_acc: 0.9841 - val_f1: 0.9841\n",
      "\n",
      "Epoch 00033: val_acc improved from 0.98380 to 0.98410, saving model to best_model.h5\n",
      "Epoch 34/10000\n"
     ]
    },
    {
     "name": "stdout",
     "output_type": "stream",
     "text": [
      "60000/60000 [==============================] - 3s 44us/step - loss: 0.1720 - acc: 0.9489 - f1: 0.9497 - val_loss: 0.0580 - val_acc: 0.9823 - val_f1: 0.9819\n",
      "\n",
      "Epoch 00034: val_acc did not improve from 0.98410\n",
      "Epoch 35/10000\n",
      "60000/60000 [==============================] - 3s 44us/step - loss: 0.1689 - acc: 0.9492 - f1: 0.9503 - val_loss: 0.0547 - val_acc: 0.9827 - val_f1: 0.9828\n",
      "\n",
      "Epoch 00035: val_acc did not improve from 0.98410\n",
      "Epoch 36/10000\n",
      "60000/60000 [==============================] - 3s 44us/step - loss: 0.1694 - acc: 0.9495 - f1: 0.9506 - val_loss: 0.0531 - val_acc: 0.9833 - val_f1: 0.9837\n",
      "\n",
      "Epoch 00036: val_acc did not improve from 0.98410\n",
      "\n",
      "Epoch 00036: ReduceLROnPlateau reducing learning rate to 0.25.\n",
      "Epoch 37/10000\n",
      "60000/60000 [==============================] - 3s 45us/step - loss: 0.1669 - acc: 0.9502 - f1: 0.9513 - val_loss: 0.0535 - val_acc: 0.9834 - val_f1: 0.9836\n",
      "\n",
      "Epoch 00037: val_acc did not improve from 0.98410\n",
      "Epoch 38/10000\n",
      "60000/60000 [==============================] - 3s 46us/step - loss: 0.1650 - acc: 0.9496 - f1: 0.9513 - val_loss: 0.0540 - val_acc: 0.9832 - val_f1: 0.9835\n",
      "\n",
      "Epoch 00038: val_acc did not improve from 0.98410\n",
      "Epoch 00038: early stopping\n"
     ]
    }
   ],
   "source": [
    "history = model.fit(x_train, y_train,\n",
    "          batch_size=batch_size,\n",
    "          epochs=10000,\n",
    "          callbacks=callbacks,\n",
    "          verbose=1,\n",
    "          validation_data=(x_test, y_test))"
   ]
  },
  {
   "cell_type": "code",
   "execution_count": 8,
   "metadata": {},
   "outputs": [
    {
     "data": {
      "text/plain": [
       "<matplotlib.legend.Legend at 0x7f0b641f9a20>"
      ]
     },
     "execution_count": 8,
     "metadata": {},
     "output_type": "execute_result"
    },
    {
     "data": {
      "image/png": "[encoded data removed]",
      "text/plain": [
       "<Figure size 1080x360 with 3 Axes>"
      ]
     },
     "metadata": {},
     "output_type": "display_data"
    }
   ],
   "source": [
    "fig, ax = plt.subplots(1, 3, figsize=(15,5))\n",
    "ax[0].set_title('Loss')\n",
    "ax[0].plot(history.epoch, history.history[\"loss\"], label=\"Train Loss\")\n",
    "ax[0].plot(history.epoch, history.history[\"val_loss\"], label=\"Validation Loss\")\n",
    "ax[1].set_title('Accuracy')\n",
    "ax[1].plot(history.epoch, history.history[\"acc\"], label=\"Train accuracy\")\n",
    "ax[1].plot(history.epoch, history.history[\"val_acc\"], label=\"Validation accuracy\")\n",
    "ax[2].set_title('F1_score')\n",
    "ax[2].plot(history.epoch, history.history[\"f1\"], label=\"Train F1_score\")\n",
    "ax[2].plot(history.epoch, history.history[\"val_f1\"], label=\"Validation F1_score\")\n",
    "ax[0].legend()\n",
    "ax[1].legend()\n",
    "ax[2].legend()"
   ]
  },
  {
   "cell_type": "markdown",
   "metadata": {},
   "source": [
    "## Score model"
   ]
  },
  {
   "cell_type": "code",
   "execution_count": 9,
   "metadata": {},
   "outputs": [
    {
     "name": "stdout",
     "output_type": "stream",
     "text": [
      "Test loss: 0.052825062340544536\n",
      "Test accuracy: 0.9841\n",
      "Test f1_score: 0.9840674802780152\n"
     ]
    }
   ],
   "source": [
    "model = load_model('best_model.h5', custom_objects={'f1': f1})\n",
    "score = model.evaluate(x_test, y_test, verbose=0)\n",
    "print('Test loss:', score[0])\n",
    "print('Test accuracy:', score[1])\n",
    "print('Test f1_score:', score[2])"
   ]
  }
 ],
 "metadata": {
  "kernelspec": {
   "display_name": "Python 3",
   "language": "python",
   "name": "python3"
  },
  "language_info": {
   "codemirror_mode": {
    "name": "ipython",
    "version": 3
   },
   "file_extension": ".py",
   "mimetype": "text/x-python",
   "name": "python",
   "nbconvert_exporter": "python",
   "pygments_lexer": "ipython3",
   "version": "3.6.5"
  }
 },
 "nbformat": 4,
 "nbformat_minor": 2
}
